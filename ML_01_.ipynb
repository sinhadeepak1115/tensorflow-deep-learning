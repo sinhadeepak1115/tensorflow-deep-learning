{
  "nbformat": 4,
  "nbformat_minor": 0,
  "metadata": {
    "colab": {
      "provenance": [],
      "authorship_tag": "ABX9TyPLAQZvBxhwCby/is7hjI3V",
      "include_colab_link": true
    },
    "kernelspec": {
      "name": "python3",
      "display_name": "Python 3"
    },
    "language_info": {
      "name": "python"
    },
    "accelerator": "GPU",
    "gpuClass": "standard"
  },
  "cells": [
    {
      "cell_type": "markdown",
      "metadata": {
        "id": "view-in-github",
        "colab_type": "text"
      },
      "source": [
        "<a href=\"https://colab.research.google.com/github/sinhadeepak1115/tensorflow-deep-learning/blob/main/ML_01_.ipynb\" target=\"_parent\"><img src=\"https://colab.research.google.com/assets/colab-badge.svg\" alt=\"Open In Colab\"/></a>"
      ]
    },
    {
      "cell_type": "markdown",
      "source": [
        "# Neural Network Regression with TensorFlow\n",
        "\n",
        "There are many definitions for a regression problem but in our case, we're going to simplify it to be: predicting a number.\n",
        "\n"
      ],
      "metadata": {
        "id": "D9R-0F4bagPM"
      }
    },
    {
      "cell_type": "code",
      "source": [
        "import tensorflow as tf\n",
        "print(tf.__version__)"
      ],
      "metadata": {
        "colab": {
          "base_uri": "https://localhost:8080/"
        },
        "id": "v8-c5Pp5ef1r",
        "outputId": "6e96d7dd-de6e-406f-a52b-6c7f988f9c4e"
      },
      "execution_count": 2,
      "outputs": [
        {
          "output_type": "stream",
          "name": "stdout",
          "text": [
            "2.12.0\n"
          ]
        }
      ]
    },
    {
      "cell_type": "code",
      "source": [
        "# view data modules\n",
        "import numpy as np\n",
        "import matplotlib.pyplot as plt\n",
        "X = np.array([-7.0, -4.0, -1.0, 2.0, 5.0, 8.0, 11.0, 14.0])\n",
        "y = np.array([3.0, 6.0, 9.0, 12.0, 15.0, 18.0, 21.0, 24.0])\n",
        "plt.scatter(X,y)"
      ],
      "metadata": {
        "colab": {
          "base_uri": "https://localhost:8080/",
          "height": 452
        },
        "id": "ri8rJi1pegLq",
        "outputId": "93ed33a3-0631-4088-f9eb-919e2f64686a"
      },
      "execution_count": 6,
      "outputs": [
        {
          "output_type": "execute_result",
          "data": {
            "text/plain": [
              "<matplotlib.collections.PathCollection at 0x7f0adc77d690>"
            ]
          },
          "metadata": {},
          "execution_count": 6
        },
        {
          "output_type": "display_data",
          "data": {
            "text/plain": [
              "<Figure size 640x480 with 1 Axes>"
            ],
            "image/png": "[encoded data removed]"
          },
          "metadata": {}
        }
      ]
    },
    {
      "cell_type": "code",
      "source": [
        "# Example input and output shapes of a regresson model\n",
        "house_info = tf.constant([\"bedroom\", \"bathroom\", \"garage\"])\n",
        "house_price = tf.constant([939700])\n",
        "house_info, house_price"
      ],
      "metadata": {
        "colab": {
          "base_uri": "https://localhost:8080/"
        },
        "id": "Tr15Cwu_egVd",
        "outputId": "62fbd0fe-a5f5-4aa5-8160-2573a923760d"
      },
      "execution_count": 7,
      "outputs": [
        {
          "output_type": "execute_result",
          "data": {
            "text/plain": [
              "(<tf.Tensor: shape=(3,), dtype=string, numpy=array([b'bedroom', b'bathroom', b'garage'], dtype=object)>,\n",
              " <tf.Tensor: shape=(1,), dtype=int32, numpy=array([939700], dtype=int32)>)"
            ]
          },
          "metadata": {},
          "execution_count": 7
        }
      ]
    },
    {
      "cell_type": "markdown",
      "source": [
        "#Steps in modelling with TensorFlow\n",
        "\n",
        "Now we know what data we have as well as the input and output shapes, let's see how we'd build a neural network to model it.\n",
        "\n",
        "In TensorFlow, there are typically 3 fundamental steps to creating and training a model.\n",
        "\n",
        "* Creating a model - piece together the layers of a neural network yourself (using the Functional or Sequential API) or import a previously built model (known as transfer learning).\n",
        "* Compiling a model - defining how a models performance should be measured (loss/metrics) as well as defining how it should improve (optimizer).\n",
        "* Fitting a model - letting the model try to find patterns in the data (how does X get to y).\n"
      ],
      "metadata": {
        "id": "kMRbEEVeegd-"
      }
    },
    {
      "cell_type": "code",
      "source": [
        "# Set random seed\n",
        "tf.random.set_seed(63)\n",
        "# Create a model using the Sequential API\n",
        "model = tf.keras.Sequential([\n",
        "    tf.keras.layers.Dense(1)\n",
        "])\n",
        "model.compile(loss=tf.keras.losses.mae,# mae is short for mean absolute error\n",
        "              optimizer = tf.keras.optimizers.SGD(),# SGD is short for stochastic gradient descent\n",
        "              metrics = [\"mae\"]\n",
        ")\n",
        "model.fit(tf.expand_dims(X, axis=-1),y,epochs=5)"
      ],
      "metadata": {
        "colab": {
          "base_uri": "https://localhost:8080/"
        },
        "id": "vphBjWXhegmB",
        "outputId": "d122c544-46e5-4232-ab65-6853fbe06273"
      },
      "execution_count": 8,
      "outputs": [
        {
          "output_type": "stream",
          "name": "stdout",
          "text": [
            "Epoch 1/5\n",
            "1/1 [==============================] - 4s 4s/step - loss: 7.9160 - mae: 7.9160\n",
            "Epoch 2/5\n",
            "1/1 [==============================] - 0s 10ms/step - loss: 7.7835 - mae: 7.7835\n",
            "Epoch 3/5\n",
            "1/1 [==============================] - 0s 11ms/step - loss: 7.6510 - mae: 7.6510\n",
            "Epoch 4/5\n",
            "1/1 [==============================] - 0s 10ms/step - loss: 7.5185 - mae: 7.5185\n",
            "Epoch 5/5\n",
            "1/1 [==============================] - 0s 10ms/step - loss: 7.4700 - mae: 7.4700\n"
          ]
        },
        {
          "output_type": "execute_result",
          "data": {
            "text/plain": [
              "<keras.callbacks.History at 0x7f0adc6f7c40>"
            ]
          },
          "metadata": {},
          "execution_count": 8
        }
      ]
    },
    {
      "cell_type": "code",
      "source": [
        "X,y"
      ],
      "metadata": {
        "colab": {
          "base_uri": "https://localhost:8080/"
        },
        "id": "wpBvva4Heg1h",
        "outputId": "16e77fa0-4cf1-4b35-dec6-e8a1bbc03424"
      },
      "execution_count": 9,
      "outputs": [
        {
          "output_type": "execute_result",
          "data": {
            "text/plain": [
              "(array([-7., -4., -1.,  2.,  5.,  8., 11., 14.]),\n",
              " array([ 3.,  6.,  9., 12., 15., 18., 21., 24.]))"
            ]
          },
          "metadata": {},
          "execution_count": 9
        }
      ]
    },
    {
      "cell_type": "code",
      "source": [
        "model.predict([17.0])"
      ],
      "metadata": {
        "colab": {
          "base_uri": "https://localhost:8080/"
        },
        "id": "RzPj-pwAeg-R",
        "outputId": "5d11688f-cd01-48a8-c0cd-eb07546f9673"
      },
      "execution_count": 10,
      "outputs": [
        {
          "output_type": "stream",
          "name": "stdout",
          "text": [
            "1/1 [==============================] - 0s 368ms/step\n"
          ]
        },
        {
          "output_type": "execute_result",
          "data": {
            "text/plain": [
              "array([[29.550007]], dtype=float32)"
            ]
          },
          "metadata": {},
          "execution_count": 10
        }
      ]
    },
    {
      "cell_type": "code",
      "source": [
        "# imporve our tf model\n",
        "tf.random.set_seed(63)\n",
        "model  = tf.keras.Sequential([\n",
        "    tf.keras.layers.Dense(1)\n",
        "])\n",
        "\n",
        "model.compile(loss=tf.keras.losses.mae,\n",
        "              optimizer=tf.keras.optimizers.SGD(),\n",
        "              metrics=[\"mae\"]\n",
        ")\n",
        "\n",
        "model.fit(tf.expand_dims(X, axis=-1), y, epochs=100)"
      ],
      "metadata": {
        "colab": {
          "base_uri": "https://localhost:8080/"
        },
        "id": "0zUsnSghehGN",
        "outputId": "661adeed-be4c-4089-8bf4-18bae8ad0802"
      },
      "execution_count": 11,
      "outputs": [
        {
          "output_type": "stream",
          "name": "stdout",
          "text": [
            "Epoch 1/100\n",
            "1/1 [==============================] - 1s 535ms/step - loss: 15.0322 - mae: 15.0322\n",
            "Epoch 2/100\n",
            "1/1 [==============================] - 0s 11ms/step - loss: 14.8302 - mae: 14.8302\n",
            "Epoch 3/100\n",
            "1/1 [==============================] - 0s 10ms/step - loss: 14.6977 - mae: 14.6977\n",
            "Epoch 4/100\n",
            "1/1 [==============================] - 0s 10ms/step - loss: 14.5652 - mae: 14.5652\n",
            "Epoch 5/100\n",
            "1/1 [==============================] - 0s 10ms/step - loss: 14.4327 - mae: 14.4327\n",
            "Epoch 6/100\n",
            "1/1 [==============================] - 0s 9ms/step - loss: 14.3002 - mae: 14.3002\n",
            "Epoch 7/100\n",
            "1/1 [==============================] - 0s 9ms/step - loss: 14.1677 - mae: 14.1677\n",
            "Epoch 8/100\n",
            "1/1 [==============================] - 0s 10ms/step - loss: 14.0352 - mae: 14.0352\n",
            "Epoch 9/100\n",
            "1/1 [==============================] - 0s 9ms/step - loss: 13.9027 - mae: 13.9027\n",
            "Epoch 10/100\n",
            "1/1 [==============================] - 0s 10ms/step - loss: 13.7702 - mae: 13.7702\n",
            "Epoch 11/100\n",
            "1/1 [==============================] - 0s 10ms/step - loss: 13.6377 - mae: 13.6377\n",
            "Epoch 12/100\n",
            "1/1 [==============================] - 0s 13ms/step - loss: 13.5052 - mae: 13.5052\n",
            "Epoch 13/100\n",
            "1/1 [==============================] - 0s 10ms/step - loss: 13.3727 - mae: 13.3727\n",
            "Epoch 14/100\n",
            "1/1 [==============================] - 0s 10ms/step - loss: 13.2402 - mae: 13.2402\n",
            "Epoch 15/100\n",
            "1/1 [==============================] - 0s 9ms/step - loss: 13.1077 - mae: 13.1077\n",
            "Epoch 16/100\n",
            "1/1 [==============================] - 0s 10ms/step - loss: 12.9752 - mae: 12.9752\n",
            "Epoch 17/100\n",
            "1/1 [==============================] - 0s 9ms/step - loss: 12.8427 - mae: 12.8427\n",
            "Epoch 18/100\n",
            "1/1 [==============================] - 0s 19ms/step - loss: 12.7102 - mae: 12.7102\n",
            "Epoch 19/100\n",
            "1/1 [==============================] - 0s 11ms/step - loss: 12.5777 - mae: 12.5777\n",
            "Epoch 20/100\n",
            "1/1 [==============================] - 0s 9ms/step - loss: 12.4452 - mae: 12.4452\n",
            "Epoch 21/100\n",
            "1/1 [==============================] - 0s 10ms/step - loss: 12.3127 - mae: 12.3127\n",
            "Epoch 22/100\n",
            "1/1 [==============================] - 0s 10ms/step - loss: 12.1802 - mae: 12.1802\n",
            "Epoch 23/100\n",
            "1/1 [==============================] - 0s 10ms/step - loss: 12.0477 - mae: 12.0477\n",
            "Epoch 24/100\n",
            "1/1 [==============================] - 0s 9ms/step - loss: 11.9152 - mae: 11.9152\n",
            "Epoch 25/100\n",
            "1/1 [==============================] - 0s 9ms/step - loss: 11.7827 - mae: 11.7827\n",
            "Epoch 26/100\n",
            "1/1 [==============================] - 0s 10ms/step - loss: 11.6502 - mae: 11.6502\n",
            "Epoch 27/100\n",
            "1/1 [==============================] - 0s 9ms/step - loss: 11.5177 - mae: 11.5177\n",
            "Epoch 28/100\n",
            "1/1 [==============================] - 0s 9ms/step - loss: 11.3852 - mae: 11.3852\n",
            "Epoch 29/100\n",
            "1/1 [==============================] - 0s 9ms/step - loss: 11.2527 - mae: 11.2527\n",
            "Epoch 30/100\n",
            "1/1 [==============================] - 0s 12ms/step - loss: 11.1202 - mae: 11.1202\n",
            "Epoch 31/100\n",
            "1/1 [==============================] - 0s 8ms/step - loss: 10.9877 - mae: 10.9877\n",
            "Epoch 32/100\n",
            "1/1 [==============================] - 0s 9ms/step - loss: 10.8552 - mae: 10.8552\n",
            "Epoch 33/100\n",
            "1/1 [==============================] - 0s 10ms/step - loss: 10.7227 - mae: 10.7227\n",
            "Epoch 34/100\n",
            "1/1 [==============================] - 0s 9ms/step - loss: 10.5902 - mae: 10.5902\n",
            "Epoch 35/100\n",
            "1/1 [==============================] - 0s 11ms/step - loss: 10.4577 - mae: 10.4577\n",
            "Epoch 36/100\n",
            "1/1 [==============================] - 0s 9ms/step - loss: 10.3252 - mae: 10.3252\n",
            "Epoch 37/100\n",
            "1/1 [==============================] - 0s 10ms/step - loss: 10.1927 - mae: 10.1927\n",
            "Epoch 38/100\n",
            "1/1 [==============================] - 0s 10ms/step - loss: 10.0602 - mae: 10.0602\n",
            "Epoch 39/100\n",
            "1/1 [==============================] - 0s 10ms/step - loss: 9.9277 - mae: 9.9277\n",
            "Epoch 40/100\n",
            "1/1 [==============================] - 0s 11ms/step - loss: 9.7952 - mae: 9.7952\n",
            "Epoch 41/100\n",
            "1/1 [==============================] - 0s 10ms/step - loss: 9.6627 - mae: 9.6627\n",
            "Epoch 42/100\n",
            "1/1 [==============================] - 0s 10ms/step - loss: 9.5302 - mae: 9.5302\n",
            "Epoch 43/100\n",
            "1/1 [==============================] - 0s 10ms/step - loss: 9.3977 - mae: 9.3977\n",
            "Epoch 44/100\n",
            "1/1 [==============================] - 0s 11ms/step - loss: 9.2652 - mae: 9.2652\n",
            "Epoch 45/100\n",
            "1/1 [==============================] - 0s 10ms/step - loss: 9.1327 - mae: 9.1327\n",
            "Epoch 46/100\n",
            "1/1 [==============================] - 0s 10ms/step - loss: 9.0002 - mae: 9.0002\n",
            "Epoch 47/100\n",
            "1/1 [==============================] - 0s 9ms/step - loss: 8.8677 - mae: 8.8677\n",
            "Epoch 48/100\n",
            "1/1 [==============================] - 0s 17ms/step - loss: 8.7352 - mae: 8.7352\n",
            "Epoch 49/100\n",
            "1/1 [==============================] - 0s 9ms/step - loss: 8.6027 - mae: 8.6027\n",
            "Epoch 50/100\n",
            "1/1 [==============================] - 0s 9ms/step - loss: 8.4702 - mae: 8.4702\n",
            "Epoch 51/100\n",
            "1/1 [==============================] - 0s 10ms/step - loss: 8.3377 - mae: 8.3377\n",
            "Epoch 52/100\n",
            "1/1 [==============================] - 0s 11ms/step - loss: 8.2052 - mae: 8.2052\n",
            "Epoch 53/100\n",
            "1/1 [==============================] - 0s 10ms/step - loss: 8.0727 - mae: 8.0727\n",
            "Epoch 54/100\n",
            "1/1 [==============================] - 0s 11ms/step - loss: 7.9402 - mae: 7.9402\n",
            "Epoch 55/100\n",
            "1/1 [==============================] - 0s 10ms/step - loss: 7.8077 - mae: 7.8077\n",
            "Epoch 56/100\n",
            "1/1 [==============================] - 0s 10ms/step - loss: 7.6752 - mae: 7.6752\n",
            "Epoch 57/100\n",
            "1/1 [==============================] - 0s 10ms/step - loss: 7.5427 - mae: 7.5427\n",
            "Epoch 58/100\n",
            "1/1 [==============================] - 0s 11ms/step - loss: 7.4102 - mae: 7.4102\n",
            "Epoch 59/100\n",
            "1/1 [==============================] - 0s 10ms/step - loss: 7.2777 - mae: 7.2777\n",
            "Epoch 60/100\n",
            "1/1 [==============================] - 0s 10ms/step - loss: 7.1452 - mae: 7.1452\n",
            "Epoch 61/100\n",
            "1/1 [==============================] - 0s 10ms/step - loss: 7.0519 - mae: 7.0519\n",
            "Epoch 62/100\n",
            "1/1 [==============================] - 0s 11ms/step - loss: 7.0463 - mae: 7.0463\n",
            "Epoch 63/100\n",
            "1/1 [==============================] - 0s 10ms/step - loss: 7.0406 - mae: 7.0406\n",
            "Epoch 64/100\n",
            "1/1 [==============================] - 0s 10ms/step - loss: 7.0350 - mae: 7.0350\n",
            "Epoch 65/100\n",
            "1/1 [==============================] - 0s 10ms/step - loss: 7.0294 - mae: 7.0294\n",
            "Epoch 66/100\n",
            "1/1 [==============================] - 0s 11ms/step - loss: 7.0238 - mae: 7.0238\n",
            "Epoch 67/100\n",
            "1/1 [==============================] - 0s 10ms/step - loss: 7.0181 - mae: 7.0181\n",
            "Epoch 68/100\n",
            "1/1 [==============================] - 0s 11ms/step - loss: 7.0125 - mae: 7.0125\n",
            "Epoch 69/100\n",
            "1/1 [==============================] - 0s 10ms/step - loss: 7.0069 - mae: 7.0069\n",
            "Epoch 70/100\n",
            "1/1 [==============================] - 0s 10ms/step - loss: 7.0013 - mae: 7.0013\n",
            "Epoch 71/100\n",
            "1/1 [==============================] - 0s 10ms/step - loss: 6.9956 - mae: 6.9956\n",
            "Epoch 72/100\n",
            "1/1 [==============================] - 0s 12ms/step - loss: 6.9900 - mae: 6.9900\n",
            "Epoch 73/100\n",
            "1/1 [==============================] - 0s 10ms/step - loss: 6.9844 - mae: 6.9844\n",
            "Epoch 74/100\n",
            "1/1 [==============================] - 0s 10ms/step - loss: 6.9788 - mae: 6.9788\n",
            "Epoch 75/100\n",
            "1/1 [==============================] - 0s 10ms/step - loss: 6.9731 - mae: 6.9731\n",
            "Epoch 76/100\n",
            "1/1 [==============================] - 0s 10ms/step - loss: 6.9675 - mae: 6.9675\n",
            "Epoch 77/100\n",
            "1/1 [==============================] - 0s 10ms/step - loss: 6.9619 - mae: 6.9619\n",
            "Epoch 78/100\n",
            "1/1 [==============================] - 0s 10ms/step - loss: 6.9563 - mae: 6.9563\n",
            "Epoch 79/100\n",
            "1/1 [==============================] - 0s 10ms/step - loss: 6.9506 - mae: 6.9506\n",
            "Epoch 80/100\n",
            "1/1 [==============================] - 0s 11ms/step - loss: 6.9450 - mae: 6.9450\n",
            "Epoch 81/100\n",
            "1/1 [==============================] - 0s 10ms/step - loss: 6.9394 - mae: 6.9394\n",
            "Epoch 82/100\n",
            "1/1 [==============================] - 0s 11ms/step - loss: 6.9338 - mae: 6.9338\n",
            "Epoch 83/100\n",
            "1/1 [==============================] - 0s 15ms/step - loss: 6.9281 - mae: 6.9281\n",
            "Epoch 84/100\n",
            "1/1 [==============================] - 0s 12ms/step - loss: 6.9225 - mae: 6.9225\n",
            "Epoch 85/100\n",
            "1/1 [==============================] - 0s 12ms/step - loss: 6.9169 - mae: 6.9169\n",
            "Epoch 86/100\n",
            "1/1 [==============================] - 0s 9ms/step - loss: 6.9113 - mae: 6.9113\n",
            "Epoch 87/100\n",
            "1/1 [==============================] - 0s 10ms/step - loss: 6.9056 - mae: 6.9056\n",
            "Epoch 88/100\n",
            "1/1 [==============================] - 0s 9ms/step - loss: 6.9000 - mae: 6.9000\n",
            "Epoch 89/100\n",
            "1/1 [==============================] - 0s 11ms/step - loss: 6.8944 - mae: 6.8944\n",
            "Epoch 90/100\n",
            "1/1 [==============================] - 0s 9ms/step - loss: 6.8888 - mae: 6.8888\n",
            "Epoch 91/100\n",
            "1/1 [==============================] - 0s 10ms/step - loss: 6.8831 - mae: 6.8831\n",
            "Epoch 92/100\n",
            "1/1 [==============================] - 0s 10ms/step - loss: 6.8775 - mae: 6.8775\n",
            "Epoch 93/100\n",
            "1/1 [==============================] - 0s 10ms/step - loss: 6.8719 - mae: 6.8719\n",
            "Epoch 94/100\n",
            "1/1 [==============================] - 0s 10ms/step - loss: 6.8663 - mae: 6.8663\n",
            "Epoch 95/100\n",
            "1/1 [==============================] - 0s 10ms/step - loss: 6.8606 - mae: 6.8606\n",
            "Epoch 96/100\n",
            "1/1 [==============================] - 0s 10ms/step - loss: 6.8550 - mae: 6.8550\n",
            "Epoch 97/100\n",
            "1/1 [==============================] - 0s 9ms/step - loss: 6.8494 - mae: 6.8494\n",
            "Epoch 98/100\n",
            "1/1 [==============================] - 0s 11ms/step - loss: 6.8438 - mae: 6.8438\n",
            "Epoch 99/100\n",
            "1/1 [==============================] - 0s 10ms/step - loss: 6.8381 - mae: 6.8381\n",
            "Epoch 100/100\n",
            "1/1 [==============================] - 0s 17ms/step - loss: 6.8325 - mae: 6.8325\n"
          ]
        },
        {
          "output_type": "execute_result",
          "data": {
            "text/plain": [
              "<keras.callbacks.History at 0x7f0a35e0bd00>"
            ]
          },
          "metadata": {},
          "execution_count": 11
        }
      ]
    },
    {
      "cell_type": "code",
      "source": [
        "model.predict([17.0])"
      ],
      "metadata": {
        "colab": {
          "base_uri": "https://localhost:8080/"
        },
        "id": "JKiGMkQlzvLe",
        "outputId": "05d8d52f-1a50-469a-ec97-f2c7a3024c73"
      },
      "execution_count": 13,
      "outputs": [
        {
          "output_type": "stream",
          "name": "stdout",
          "text": [
            "1/1 [==============================] - 0s 82ms/step\n"
          ]
        },
        {
          "output_type": "execute_result",
          "data": {
            "text/plain": [
              "array([[29.505074]], dtype=float32)"
            ]
          },
          "metadata": {},
          "execution_count": 13
        }
      ]
    },
    {
      "cell_type": "code",
      "source": [
        "tf.random.set_seed(63)\n",
        "model = tf.keras.Sequential([\n",
        "    tf.keras.layers.Dense(100),\n",
        "    tf.keras.layers.Dense(100),\n",
        "    tf.keras.layers.Dense(100),\n",
        "    tf.keras.layers.Dense(1)\n",
        "])\n",
        "model.compile(loss=tf.keras.losses.mae,\n",
        "              optimizer=tf.keras.optimizers.Adam(lr=0.0001),\n",
        "              metrics=[\"mae\"])\n",
        "\n",
        "model.fit(tf.expand_dims(X,axis=-1),y,epochs=100)"
      ],
      "metadata": {
        "colab": {
          "base_uri": "https://localhost:8080/"
        },
        "id": "ahWaBBub0Q_v",
        "outputId": "0a1ca10b-d64e-46e8-82fd-f0528ed47ee3"
      },
      "execution_count": 18,
      "outputs": [
        {
          "output_type": "stream",
          "name": "stderr",
          "text": [
            "WARNING:absl:`lr` is deprecated in Keras optimizer, please use `learning_rate` or use the legacy optimizer, e.g.,tf.keras.optimizers.legacy.Adam.\n"
          ]
        },
        {
          "output_type": "stream",
          "name": "stdout",
          "text": [
            "Epoch 1/100\n",
            "1/1 [==============================] - 2s 2s/step - loss: 12.9905 - mae: 12.9905\n",
            "Epoch 2/100\n",
            "1/1 [==============================] - 0s 11ms/step - loss: 11.9217 - mae: 11.9217\n",
            "Epoch 3/100\n",
            "1/1 [==============================] - 0s 11ms/step - loss: 10.8353 - mae: 10.8353\n",
            "Epoch 4/100\n",
            "1/1 [==============================] - 0s 10ms/step - loss: 9.7151 - mae: 9.7151\n",
            "Epoch 5/100\n",
            "1/1 [==============================] - 0s 10ms/step - loss: 8.5491 - mae: 8.5491\n",
            "Epoch 6/100\n",
            "1/1 [==============================] - 0s 10ms/step - loss: 7.3499 - mae: 7.3499\n",
            "Epoch 7/100\n",
            "1/1 [==============================] - 0s 10ms/step - loss: 7.6496 - mae: 7.6496\n",
            "Epoch 8/100\n",
            "1/1 [==============================] - 0s 10ms/step - loss: 8.0900 - mae: 8.0900\n",
            "Epoch 9/100\n",
            "1/1 [==============================] - 0s 10ms/step - loss: 8.3201 - mae: 8.3201\n",
            "Epoch 10/100\n",
            "1/1 [==============================] - 0s 10ms/step - loss: 8.0941 - mae: 8.0941\n",
            "Epoch 11/100\n",
            "1/1 [==============================] - 0s 10ms/step - loss: 7.8221 - mae: 7.8221\n",
            "Epoch 12/100\n",
            "1/1 [==============================] - 0s 10ms/step - loss: 7.4670 - mae: 7.4670\n",
            "Epoch 13/100\n",
            "1/1 [==============================] - 0s 10ms/step - loss: 7.1587 - mae: 7.1587\n",
            "Epoch 14/100\n",
            "1/1 [==============================] - 0s 12ms/step - loss: 7.1410 - mae: 7.1410\n",
            "Epoch 15/100\n",
            "1/1 [==============================] - 0s 10ms/step - loss: 7.4097 - mae: 7.4097\n",
            "Epoch 16/100\n",
            "1/1 [==============================] - 0s 10ms/step - loss: 7.5391 - mae: 7.5391\n",
            "Epoch 17/100\n",
            "1/1 [==============================] - 0s 10ms/step - loss: 7.4918 - mae: 7.4918\n",
            "Epoch 18/100\n",
            "1/1 [==============================] - 0s 11ms/step - loss: 7.2977 - mae: 7.2977\n",
            "Epoch 19/100\n",
            "1/1 [==============================] - 0s 11ms/step - loss: 7.0018 - mae: 7.0018\n",
            "Epoch 20/100\n",
            "1/1 [==============================] - 0s 11ms/step - loss: 6.9636 - mae: 6.9636\n",
            "Epoch 21/100\n",
            "1/1 [==============================] - 0s 11ms/step - loss: 6.9247 - mae: 6.9247\n",
            "Epoch 22/100\n",
            "1/1 [==============================] - 0s 11ms/step - loss: 7.0045 - mae: 7.0045\n",
            "Epoch 23/100\n",
            "1/1 [==============================] - 0s 11ms/step - loss: 7.0474 - mae: 7.0474\n",
            "Epoch 24/100\n",
            "1/1 [==============================] - 0s 11ms/step - loss: 6.9964 - mae: 6.9964\n",
            "Epoch 25/100\n",
            "1/1 [==============================] - 0s 10ms/step - loss: 6.8646 - mae: 6.8646\n",
            "Epoch 26/100\n",
            "1/1 [==============================] - 0s 10ms/step - loss: 6.7771 - mae: 6.7771\n",
            "Epoch 27/100\n",
            "1/1 [==============================] - 0s 11ms/step - loss: 6.7562 - mae: 6.7562\n",
            "Epoch 28/100\n",
            "1/1 [==============================] - 0s 11ms/step - loss: 6.7340 - mae: 6.7340\n",
            "Epoch 29/100\n",
            "1/1 [==============================] - 0s 10ms/step - loss: 6.7533 - mae: 6.7533\n",
            "Epoch 30/100\n",
            "1/1 [==============================] - 0s 10ms/step - loss: 6.7064 - mae: 6.7064\n",
            "Epoch 31/100\n",
            "1/1 [==============================] - 0s 10ms/step - loss: 6.6367 - mae: 6.6367\n",
            "Epoch 32/100\n",
            "1/1 [==============================] - 0s 10ms/step - loss: 6.5945 - mae: 6.5945\n",
            "Epoch 33/100\n",
            "1/1 [==============================] - 0s 11ms/step - loss: 6.5512 - mae: 6.5512\n",
            "Epoch 34/100\n",
            "1/1 [==============================] - 0s 10ms/step - loss: 6.5067 - mae: 6.5067\n",
            "Epoch 35/100\n",
            "1/1 [==============================] - 0s 11ms/step - loss: 6.5590 - mae: 6.5590\n",
            "Epoch 36/100\n",
            "1/1 [==============================] - 0s 10ms/step - loss: 6.5380 - mae: 6.5380\n",
            "Epoch 37/100\n",
            "1/1 [==============================] - 0s 11ms/step - loss: 6.4350 - mae: 6.4350\n",
            "Epoch 38/100\n",
            "1/1 [==============================] - 0s 11ms/step - loss: 6.3679 - mae: 6.3679\n",
            "Epoch 39/100\n",
            "1/1 [==============================] - 0s 10ms/step - loss: 6.3414 - mae: 6.3414\n",
            "Epoch 40/100\n",
            "1/1 [==============================] - 0s 10ms/step - loss: 6.3124 - mae: 6.3124\n",
            "Epoch 41/100\n",
            "1/1 [==============================] - 0s 15ms/step - loss: 6.2808 - mae: 6.2808\n",
            "Epoch 42/100\n",
            "1/1 [==============================] - 0s 12ms/step - loss: 6.3082 - mae: 6.3082\n",
            "Epoch 43/100\n",
            "1/1 [==============================] - 0s 17ms/step - loss: 6.1980 - mae: 6.1980\n",
            "Epoch 44/100\n",
            "1/1 [==============================] - 0s 14ms/step - loss: 6.1472 - mae: 6.1472\n",
            "Epoch 45/100\n",
            "1/1 [==============================] - 0s 11ms/step - loss: 6.0940 - mae: 6.0940\n",
            "Epoch 46/100\n",
            "1/1 [==============================] - 0s 14ms/step - loss: 6.0381 - mae: 6.0381\n",
            "Epoch 47/100\n",
            "1/1 [==============================] - 0s 13ms/step - loss: 5.9794 - mae: 5.9794\n",
            "Epoch 48/100\n",
            "1/1 [==============================] - 0s 12ms/step - loss: 5.9178 - mae: 5.9178\n",
            "Epoch 49/100\n",
            "1/1 [==============================] - 0s 12ms/step - loss: 5.9253 - mae: 5.9253\n",
            "Epoch 50/100\n",
            "1/1 [==============================] - 0s 12ms/step - loss: 5.8589 - mae: 5.8589\n",
            "Epoch 51/100\n",
            "1/1 [==============================] - 0s 11ms/step - loss: 5.7546 - mae: 5.7546\n",
            "Epoch 52/100\n",
            "1/1 [==============================] - 0s 11ms/step - loss: 5.7055 - mae: 5.7055\n",
            "Epoch 53/100\n",
            "1/1 [==============================] - 0s 12ms/step - loss: 5.6514 - mae: 5.6514\n",
            "Epoch 54/100\n",
            "1/1 [==============================] - 0s 11ms/step - loss: 5.5920 - mae: 5.5920\n",
            "Epoch 55/100\n",
            "1/1 [==============================] - 0s 10ms/step - loss: 5.5272 - mae: 5.5272\n",
            "Epoch 56/100\n",
            "1/1 [==============================] - 0s 11ms/step - loss: 5.4567 - mae: 5.4567\n",
            "Epoch 57/100\n",
            "1/1 [==============================] - 0s 11ms/step - loss: 5.3803 - mae: 5.3803\n",
            "Epoch 58/100\n",
            "1/1 [==============================] - 0s 10ms/step - loss: 5.2976 - mae: 5.2976\n",
            "Epoch 59/100\n",
            "1/1 [==============================] - 0s 14ms/step - loss: 5.2083 - mae: 5.2083\n",
            "Epoch 60/100\n",
            "1/1 [==============================] - 0s 12ms/step - loss: 5.1119 - mae: 5.1119\n",
            "Epoch 61/100\n",
            "1/1 [==============================] - 0s 10ms/step - loss: 5.0078 - mae: 5.0078\n",
            "Epoch 62/100\n",
            "1/1 [==============================] - 0s 10ms/step - loss: 4.8957 - mae: 4.8957\n",
            "Epoch 63/100\n",
            "1/1 [==============================] - 0s 11ms/step - loss: 4.8186 - mae: 4.8186\n",
            "Epoch 64/100\n",
            "1/1 [==============================] - 0s 10ms/step - loss: 4.6679 - mae: 4.6679\n",
            "Epoch 65/100\n",
            "1/1 [==============================] - 0s 11ms/step - loss: 4.5502 - mae: 4.5502\n",
            "Epoch 66/100\n",
            "1/1 [==============================] - 0s 10ms/step - loss: 4.4211 - mae: 4.4211\n",
            "Epoch 67/100\n",
            "1/1 [==============================] - 0s 11ms/step - loss: 4.2797 - mae: 4.2797\n",
            "Epoch 68/100\n",
            "1/1 [==============================] - 0s 10ms/step - loss: 4.1254 - mae: 4.1254\n",
            "Epoch 69/100\n",
            "1/1 [==============================] - 0s 11ms/step - loss: 3.9751 - mae: 3.9751\n",
            "Epoch 70/100\n",
            "1/1 [==============================] - 0s 11ms/step - loss: 3.8035 - mae: 3.8035\n",
            "Epoch 71/100\n",
            "1/1 [==============================] - 0s 11ms/step - loss: 3.6332 - mae: 3.6332\n",
            "Epoch 72/100\n",
            "1/1 [==============================] - 0s 13ms/step - loss: 3.5386 - mae: 3.5386\n",
            "Epoch 73/100\n",
            "1/1 [==============================] - 0s 15ms/step - loss: 3.2068 - mae: 3.2068\n",
            "Epoch 74/100\n",
            "1/1 [==============================] - 0s 10ms/step - loss: 3.1827 - mae: 3.1827\n",
            "Epoch 75/100\n",
            "1/1 [==============================] - 0s 10ms/step - loss: 2.9752 - mae: 2.9752\n",
            "Epoch 76/100\n",
            "1/1 [==============================] - 0s 10ms/step - loss: 2.5479 - mae: 2.5479\n",
            "Epoch 77/100\n",
            "1/1 [==============================] - 0s 10ms/step - loss: 2.5056 - mae: 2.5056\n",
            "Epoch 78/100\n",
            "1/1 [==============================] - 0s 11ms/step - loss: 2.2489 - mae: 2.2489\n",
            "Epoch 79/100\n",
            "1/1 [==============================] - 0s 10ms/step - loss: 1.6631 - mae: 1.6631\n",
            "Epoch 80/100\n",
            "1/1 [==============================] - 0s 11ms/step - loss: 1.4387 - mae: 1.4387\n",
            "Epoch 81/100\n",
            "1/1 [==============================] - 0s 11ms/step - loss: 0.9904 - mae: 0.9904\n",
            "Epoch 82/100\n",
            "1/1 [==============================] - 0s 11ms/step - loss: 0.7348 - mae: 0.7348\n",
            "Epoch 83/100\n",
            "1/1 [==============================] - 0s 11ms/step - loss: 0.5960 - mae: 0.5960\n",
            "Epoch 84/100\n",
            "1/1 [==============================] - 0s 14ms/step - loss: 0.3149 - mae: 0.3149\n",
            "Epoch 85/100\n",
            "1/1 [==============================] - 0s 10ms/step - loss: 0.7382 - mae: 0.7382\n",
            "Epoch 86/100\n",
            "1/1 [==============================] - 0s 19ms/step - loss: 0.7841 - mae: 0.7841\n",
            "Epoch 87/100\n",
            "1/1 [==============================] - 0s 10ms/step - loss: 1.3440 - mae: 1.3440\n",
            "Epoch 88/100\n",
            "1/1 [==============================] - 0s 11ms/step - loss: 1.1883 - mae: 1.1883\n",
            "Epoch 89/100\n",
            "1/1 [==============================] - 0s 11ms/step - loss: 1.1545 - mae: 1.1545\n",
            "Epoch 90/100\n",
            "1/1 [==============================] - 0s 14ms/step - loss: 1.2276 - mae: 1.2276\n",
            "Epoch 91/100\n",
            "1/1 [==============================] - 0s 11ms/step - loss: 0.7757 - mae: 0.7757\n",
            "Epoch 92/100\n",
            "1/1 [==============================] - 0s 11ms/step - loss: 1.3258 - mae: 1.3258\n",
            "Epoch 93/100\n",
            "1/1 [==============================] - 0s 11ms/step - loss: 1.2560 - mae: 1.2560\n",
            "Epoch 94/100\n",
            "1/1 [==============================] - 0s 12ms/step - loss: 0.3686 - mae: 0.3686\n",
            "Epoch 95/100\n",
            "1/1 [==============================] - 0s 12ms/step - loss: 1.3098 - mae: 1.3098\n",
            "Epoch 96/100\n",
            "1/1 [==============================] - 0s 11ms/step - loss: 1.7921 - mae: 1.7921\n",
            "Epoch 97/100\n",
            "1/1 [==============================] - 0s 11ms/step - loss: 1.3400 - mae: 1.3400\n",
            "Epoch 98/100\n",
            "1/1 [==============================] - 0s 11ms/step - loss: 0.3629 - mae: 0.3629\n",
            "Epoch 99/100\n",
            "1/1 [==============================] - 0s 10ms/step - loss: 1.0518 - mae: 1.0518\n",
            "Epoch 100/100\n",
            "1/1 [==============================] - 0s 10ms/step - loss: 1.2773 - mae: 1.2773\n"
          ]
        },
        {
          "output_type": "execute_result",
          "data": {
            "text/plain": [
              "<keras.callbacks.History at 0x7f0a28e59a20>"
            ]
          },
          "metadata": {},
          "execution_count": 18
        }
      ]
    },
    {
      "cell_type": "code",
      "source": [
        "model.predict([17.0])"
      ],
      "metadata": {
        "colab": {
          "base_uri": "https://localhost:8080/"
        },
        "id": "tgOCGGPx0nuO",
        "outputId": "c29b5fbf-1063-46c0-ee0f-71755b308ecd"
      },
      "execution_count": 20,
      "outputs": [
        {
          "output_type": "stream",
          "name": "stdout",
          "text": [
            "1/1 [==============================] - 0s 139ms/step\n"
          ]
        },
        {
          "output_type": "execute_result",
          "data": {
            "text/plain": [
              "array([[24.978]], dtype=float32)"
            ]
          },
          "metadata": {},
          "execution_count": 20
        }
      ]
    }
  ]
}