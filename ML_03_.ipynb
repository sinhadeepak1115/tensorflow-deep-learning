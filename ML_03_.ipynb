{
  "nbformat": 4,
  "nbformat_minor": 0,
  "metadata": {
    "colab": {
      "provenance": [],
      "authorship_tag": "ABX9TyP66suDhYp0ruD+IfTixn9U",
      "include_colab_link": true
    },
    "kernelspec": {
      "name": "python3",
      "display_name": "Python 3"
    },
    "language_info": {
      "name": "python"
    }
  },
  "cells": [
    {
      "cell_type": "markdown",
      "metadata": {
        "id": "view-in-github",
        "colab_type": "text"
      },
      "source": [
        "<a href=\"https://colab.research.google.com/github/sinhadeepak1115/tensorflow-deep-learning/blob/main/ML_03_.ipynb\" target=\"_parent\"><img src=\"https://colab.research.google.com/assets/colab-badge.svg\" alt=\"Open In Colab\"/></a>"
      ]
    },
    {
      "cell_type": "markdown",
      "source": [
        "# Introduction of Convolutional Neural Network and Computer vision with Tf"
      ],
      "metadata": {
        "id": "hKc3oDUuddp6"
      }
    },
    {
      "cell_type": "code",
      "source": [],
      "metadata": {
        "id": "BEWzNO0ldBJR"
      },
      "execution_count": null,
      "outputs": []
    }
  ]
}